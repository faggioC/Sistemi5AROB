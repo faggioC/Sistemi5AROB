{
 "cells": [
  {
   "cell_type": "code",
   "execution_count": 4,
   "id": "4815ea97",
   "metadata": {},
   "outputs": [],
   "source": [
    "import math"
   ]
  },
  {
   "cell_type": "code",
   "execution_count": 16,
   "id": "06ab2e54",
   "metadata": {},
   "outputs": [],
   "source": [
    "def numDivisori(num):\n",
    "    divisori = []\n",
    "    for i in listaPrimi:\n",
    "        if num%int(i)==0:\n",
    "            i = int(i)\n",
    "            divisori.append(i)\n",
    "    \n",
    "    print(divisori)"
   ]
  },
  {
   "cell_type": "markdown",
   "id": "538d487d",
   "metadata": {},
   "source": [
    "La funzione numDivisori() cicla su tutti i numeri primi da 0 a 10000000 controllando che il resto della divisione tra essi e il numero inserito dall'utente valga 0. Se accade il numero primo viene aggiunto alla lista dei divisori. Successivamente viene stampato"
   ]
  },
  {
   "cell_type": "code",
   "execution_count": 22,
   "id": "4ac624ce",
   "metadata": {},
   "outputs": [
    {
     "name": "stdout",
     "output_type": "stream",
     "text": [
      "Inserisci un numero: 22162499\n",
      "[3793, 5843]\n"
     ]
    }
   ],
   "source": [
    "listaPrimi = []\n",
    "num = int(input(\"Inserisci un numero: \"))\n",
    "f = open(\"numeriPrimi.txt\", \"r\")\n",
    "\n",
    "righe = f.readlines()\n",
    "for riga in righe:\n",
    "    listaPrimi.append(riga)\n",
    "\n",
    "numDivisori(num)"
   ]
  },
  {
   "cell_type": "markdown",
   "id": "1938f7bc",
   "metadata": {},
   "source": [
    "Nel main() viene inserito un numero dall'utente, viene creata una lista di numeri primi presi da un file precedentemente creato e si richiama la funzione numDivisori()"
   ]
  }
 ],
 "metadata": {
  "kernelspec": {
   "display_name": "Python 3 (ipykernel)",
   "language": "python",
   "name": "python3"
  },
  "language_info": {
   "codemirror_mode": {
    "name": "ipython",
    "version": 3
   },
   "file_extension": ".py",
   "mimetype": "text/x-python",
   "name": "python",
   "nbconvert_exporter": "python",
   "pygments_lexer": "ipython3",
   "version": "3.9.12"
  }
 },
 "nbformat": 4,
 "nbformat_minor": 5
}
